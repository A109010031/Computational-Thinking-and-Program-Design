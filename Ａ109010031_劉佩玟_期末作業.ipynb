{
  "nbformat": 4,
  "nbformat_minor": 0,
  "metadata": {
    "colab": {
      "name": "Ａ109010031 劉佩玟 期末作業",
      "provenance": [],
      "authorship_tag": "ABX9TyPZQvaZr+gjbyKO8k8OyXqX",
      "include_colab_link": true
    },
    "kernelspec": {
      "name": "python3",
      "display_name": "Python 3"
    },
    "language_info": {
      "name": "python"
    }
  },
  "cells": [
    {
      "cell_type": "markdown",
      "metadata": {
        "id": "view-in-github",
        "colab_type": "text"
      },
      "source": [
        "<a href=\"https://colab.research.google.com/github/A109010031/Computational-Thinking-and-Program-Design/blob/main/%EF%BC%A1109010031_%E5%8A%89%E4%BD%A9%E7%8E%9F_%E6%9C%9F%E6%9C%AB%E4%BD%9C%E6%A5%AD.ipynb\" target=\"_parent\"><img src=\"https://colab.research.google.com/assets/colab-badge.svg\" alt=\"Open In Colab\"/></a>"
      ]
    },
    {
      "cell_type": "code",
      "metadata": {
        "colab": {
          "base_uri": "https://localhost:8080/"
        },
        "id": "f2HhBONJSTDy",
        "outputId": "1d47cd2a-81be-41ee-9e3f-d65b4da69ca0"
      },
      "source": [
        "# -*- coding: UTF-8 -*-\n",
        "def sendMsg(msg):\n",
        "    print(msg)\n",
        "\n",
        "\n",
        "def readMsg():\n",
        "    return input()\n",
        "\n",
        "\n",
        "welcome = \"嗨 ！您好！接下來會問您幾個問題。\" + \"\\n\"\n",
        "sendMsg(welcome)\n",
        "\n",
        "sendMsg(\"你叫什麼名字?\")\n",
        "name = readMsg()\n",
        "sendMsg(\"我的名字叫\" + name + \"\\n\")\n",
        "\n",
        "\n",
        "sendMsg(\"你有特別偏好哪一種類的食物嗎?港式、美式、韓式呢？\")\n",
        "food = readMsg()\n",
        "sendMsg(\"我喜歡吃\" + food + \"\\n\")\n",
        "\n",
        "if food == \"韓式\":\n",
        "    sendMsg(\"那韓式你通常喜歡吃什麼？辣炒年糕、部隊鍋、還是烤肉?\")\n",
        "    k_food = readMsg()\n",
        "    sendMsg(f\"我通常喜歡吃{k_food}配啤酒，會有放鬆的感覺。\")\n",
        "    sendMsg(\"你很懂享受！\" + \"\\n\")\n",
        "\n",
        "    sendMsg(\"比較傾向韓國餐酒館還是是烤肉餐廳？\")\n",
        "    res = readMsg()\n",
        "    sendMsg(f\"我目前比較傾向\" + res)\n",
        "    sendMsg(\"我也喜歡吃！\" + \"\\n\")\n",
        "\n",
        "sendMsg(\"那你通常是與朋友聚餐還是跟家人或是自己吃？\")\n",
        "people = readMsg()\n",
        "sendMsg(people + \"吃\")\n",
        "sendMsg(\"很幸福耶！\" + \"\\n\")\n",
        "\n",
        "sendMsg(\"你們平常有小酌的習慣嗎？\")\n",
        "ans = readMsg()\n",
        "if ans == \"有\":\n",
        "    sendMsg(\"喜歡喝啤酒或調酒？\")\n",
        "    wine = readMsg()\n",
        "    sendMsg(\"這是一定要有的吧！我比較喜歡喝\" + wine)\n",
        "    sendMsg(\"我也覺得很好喝！\" + \"\\n\")\n",
        "\n",
        "sendMsg(\"那麼義式餐廳和美式餐廳你喜歡哪個？\")\n",
        "food_type = readMsg()\n",
        "if food_type == \"義式\":\n",
        "    sendMsg(f\"我喜歡{food_type}，也喜歡吃披薩。\")\n",
        "elif food_type == \"美式\":\n",
        "    sendMsg(f\"我喜歡{food_type}，也喜歡吃漢堡。\")\n",
        "else:\n",
        "    sendMsg(\"是喔\" + \"\\n\")\n",
        "組員：A109010031 劉佩玟/A109010004葉居政/A109010061周宸妘/A109010160黃于臻"
      ],
      "execution_count": 1,
      "outputs": [
        {
          "output_type": "stream",
          "text": [
            "嗨 ！您好！接下來會問您幾個問題。\n",
            "\n",
            "你叫什麼名字?\n",
            "劉佩玟\n",
            "我的名字叫劉佩玟\n",
            "\n",
            "你有特別偏好哪一種類的食物嗎?港式、美式、韓式呢？\n",
            "港式\n",
            "我喜歡吃港式\n",
            "\n",
            "那你通常是與朋友聚餐還是跟家人或是自己吃？\n",
            "朋友\n",
            "朋友吃\n",
            "很幸福耶！\n",
            "\n",
            "你們平常有小酌的習慣嗎？\n",
            "有\n",
            "喜歡喝啤酒或調酒？\n",
            "啤酒\n",
            "這是一定要有的吧！我比較喜歡喝啤酒\n",
            "我也覺得很好喝！\n",
            "\n",
            "那麼義式餐廳和美式餐廳你喜歡哪個？\n",
            "美式\n",
            "我喜歡美式，也喜歡吃漢堡。\n"
          ],
          "name": "stdout"
        }
      ]
    }
  ]
}